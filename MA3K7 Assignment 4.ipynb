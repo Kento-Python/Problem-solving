{
 "cells": [
  {
   "cell_type": "code",
   "execution_count": 1,
   "id": "a70de794",
   "metadata": {},
   "outputs": [
    {
     "data": {
      "text/plain": [
       "array([39])"
      ]
     },
     "execution_count": 1,
     "metadata": {},
     "output_type": "execute_result"
    }
   ],
   "source": [
    "# Game simulation\n",
    "import numpy as np\n",
    "\n",
    "\n",
    "def game():\n",
    "    y = 1\n",
    "    for i in range(24):\n",
    "        x = list(range(1,3))\n",
    "        a = np.random.choice(x,1,replace = False)\n",
    "        y += a        \n",
    "    return y\n",
    "\n",
    "game()"
   ]
  },
  {
   "cell_type": "code",
   "execution_count": 2,
   "id": "052a0f7c",
   "metadata": {
    "scrolled": true
   },
   "outputs": [
    {
     "name": "stdout",
     "output_type": "stream",
     "text": [
      "0.6671\n"
     ]
    }
   ],
   "source": [
    "#Trying to simulate the game and see what kind of numbers we should be aiming for:\n",
    "import numpy as np\n",
    "\n",
    "def gamep():\n",
    "    y = 1\n",
    "    for i in range(24):\n",
    "        x = list(range(1, 3))\n",
    "        a = np.random.choice(x, 1, replace=False)\n",
    "        y += a\n",
    "        if y == 24:\n",
    "            return True\n",
    "    return False  \n",
    "\n",
    "def loop(sample):\n",
    "    w = 0\n",
    "    l = 0\n",
    "    for i in range(sample):\n",
    "        if gamep():\n",
    "            w += 1\n",
    "        else:\n",
    "            l += 1\n",
    "    return w / (w + l)  \n",
    "\n",
    "print(loop(10000))\n"
   ]
  },
  {
   "cell_type": "code",
   "execution_count": 3,
   "id": "6e37864f",
   "metadata": {},
   "outputs": [
    {
     "name": "stdout",
     "output_type": "stream",
     "text": [
      "0.5042\n"
     ]
    }
   ],
   "source": [
    "#Custom game \n",
    "\n",
    "n = 4 # Here you can adjust the number of sides on the die. Since it's a list we have n-1 faces. \n",
    "N = 24 # Number of times you want to roll the die\n",
    "def gamew():\n",
    "    y = 1\n",
    "    for i in range(N):\n",
    "        x = list(range(1, n))\n",
    "        a = np.random.choice(x, 1, replace=False)\n",
    "        y += a\n",
    "        if y == N: # This can be changed to explore other number it lands on\n",
    "            return True\n",
    "    return False  \n",
    "\n",
    "def loop(sample):\n",
    "    w = 0\n",
    "    l = 0\n",
    "    for i in range(sample):\n",
    "        if gamew():\n",
    "            w += 1\n",
    "        else:\n",
    "            l += 1\n",
    "    return w / (w + l)  \n",
    "\n",
    "print(loop(10000))"
   ]
  }
 ],
 "metadata": {
  "kernelspec": {
   "display_name": "Python 3 (ipykernel)",
   "language": "python",
   "name": "python3"
  },
  "language_info": {
   "codemirror_mode": {
    "name": "ipython",
    "version": 3
   },
   "file_extension": ".py",
   "mimetype": "text/x-python",
   "name": "python",
   "nbconvert_exporter": "python",
   "pygments_lexer": "ipython3",
   "version": "3.11.5"
  }
 },
 "nbformat": 4,
 "nbformat_minor": 5
}
