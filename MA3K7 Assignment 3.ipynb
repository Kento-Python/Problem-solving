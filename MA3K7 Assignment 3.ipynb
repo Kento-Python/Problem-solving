{
 "cells": [
  {
   "cell_type": "code",
   "execution_count": 1,
   "id": "9b41efbb",
   "metadata": {
    "scrolled": true
   },
   "outputs": [
    {
     "name": "stdout",
     "output_type": "stream",
     "text": [
      "Using matplotlib backend: <object object at 0x00000180193DB950>\n",
      "max number is 14\n",
      "min number is 0\n",
      "[ 0  2  4  6  8 10 12 14]\n",
      "mode is 2\n"
     ]
    }
   ],
   "source": [
    "import numpy as np\n",
    "import matplotlib.pyplot as plt\n",
    "import random\n",
    "import numpy as np\n",
    "from array import array\n",
    "%matplotlib\n",
    "\n",
    "# Code for original problem , might take a while to run first time\n",
    "def hat(numbers):\n",
    "    while len(numbers) >= 2:\n",
    "        a, b = np.random.choice(numbers, 2, replace=False)\n",
    "        numbers.remove(a)\n",
    "        numbers.remove(b)\n",
    "        result = np.abs(a - b)\n",
    "        numbers.append(result)\n",
    "    return numbers\n",
    "\n",
    "n = 17 # length of list n-1\n",
    "numbers = list(range(1, n))\n",
    "sample = 1000\n",
    "\n",
    "result_list = []  \n",
    "\n",
    "for i in range(sample):  \n",
    "    result = hat(numbers.copy()) \n",
    "    result_list.append(result)  \n",
    "    \n",
    "\n",
    "\n",
    "new = [x[0] for x in result_list]\n",
    "\n",
    "print(\"max number is\",max(new))\n",
    "print(\"min number is\",min(new))\n",
    "\n",
    "unique, counts = np.unique(new, axis=0, return_counts=True)\n",
    "count = np.argmax(counts)\n",
    "mode = unique[count]\n",
    "print(unique)\n",
    "print(\"mode is\",mode)\n",
    "\n",
    "Max = max(new)\n",
    "Min = min(new)\n",
    "bins = np.arange(Min, Max +2 ) - 0.5\n",
    "\n",
    "fig, ax = plt.subplots(1, 1)\n",
    "Data, _, _ = ax.hist(new, bins, color='teal', density=True, rwidth=0.8)\n",
    "ax.set_xlabel('Possible values')\n",
    "ax.set_ylabel('Probability distribution')\n",
    "ax.set_xlim(Min - 1, Max + 1)\n",
    "ax.set_xticks(np.arange(Min, Max + 1))\n",
    "ax.set_title(f'n = {n-1}') \n",
    "plt.grid(True)\n",
    "plt.show()"
   ]
  },
  {
   "cell_type": "code",
   "execution_count": 2,
   "id": "c11ecf0f",
   "metadata": {},
   "outputs": [
    {
     "name": "stdout",
     "output_type": "stream",
     "text": [
      "max number is 4\n",
      "min number is 0\n",
      "[0 2 4]\n",
      "mode is 0\n"
     ]
    }
   ],
   "source": [
    "#Code for modified hat\n",
    "\n",
    "def hatt(numbers):\n",
    "    while len(numbers) >= 2:\n",
    "        a, b, c = np.random.choice(numbers, 3, replace=False)\n",
    "        numbers.remove(a)\n",
    "        numbers.remove(b)\n",
    "        numbers.remove(c)\n",
    "        result = np.abs(a + b - c)\n",
    "        numbers.append(result)\n",
    "    return numbers\n",
    "\n",
    "n = 4 # length of list n-1 & this must be even to ensure code works\n",
    "numbers = list(range(1, n))\n",
    "sample = 100000\n",
    "\n",
    "result_list = []  \n",
    "\n",
    "for i in range(sample):  \n",
    "    result = hatt(numbers.copy()) \n",
    "    result_list.append(result)  \n",
    "    \n",
    "\n",
    "\n",
    "new = [x[0] for x in result_list]\n",
    "\n",
    "print(\"max number is\",max(new))\n",
    "print(\"min number is\",min(new))\n",
    "\n",
    "unique, counts = np.unique(new, axis=0, return_counts=True)\n",
    "count = np.argmax(counts)\n",
    "mode = unique[count]\n",
    "print(unique)\n",
    "print(\"mode is\",mode)\n",
    "\n",
    "Max = max(new)\n",
    "Min = min(new)\n",
    "bins = np.arange(Min, Max +2 ) - 0.5\n",
    "\n",
    "fig, ax = plt.subplots(1, 1)\n",
    "Data, _, _ = ax.hist(new, bins, color='teal', density=True, rwidth=0.8)\n",
    "ax.set_xlabel('Possible values')\n",
    "ax.set_ylabel('Probability distribution')\n",
    "ax.set_xlim(Min - 1, Max + 1)\n",
    "ax.set_xticks(np.arange(Min, Max + 1))\n",
    "ax.set_title(f'n = {n-1}') \n",
    "plt.grid(True)\n",
    "plt.show()"
   ]
  }
 ],
 "metadata": {
  "kernelspec": {
   "display_name": "Python 3 (ipykernel)",
   "language": "python",
   "name": "python3"
  },
  "language_info": {
   "codemirror_mode": {
    "name": "ipython",
    "version": 3
   },
   "file_extension": ".py",
   "mimetype": "text/x-python",
   "name": "python",
   "nbconvert_exporter": "python",
   "pygments_lexer": "ipython3",
   "version": "3.11.5"
  }
 },
 "nbformat": 4,
 "nbformat_minor": 5
}
