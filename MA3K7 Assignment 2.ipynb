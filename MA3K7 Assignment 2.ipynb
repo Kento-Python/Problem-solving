{
 "cells": [
  {
   "cell_type": "code",
   "execution_count": 1,
   "id": "042cfd6e",
   "metadata": {
    "scrolled": true
   },
   "outputs": [
    {
     "name": "stdout",
     "output_type": "stream",
     "text": [
      "Using matplotlib backend: <object object at 0x00000292A5CBB7F0>\n"
     ]
    }
   ],
   "source": [
    "import numpy as np\n",
    "import matplotlib.pyplot as plt\n",
    "import scipy.linalg as LA\n",
    "%matplotlib\n",
    "\n",
    "# Case odd; I go first entering 0 adjust dim to get different results and win rates if played at random.\n",
    "# Code adapated from Siri's excepted added a shuffle feature to shuffle the 1s and 0s.\n",
    "dim = 7\n",
    "sample = 10000\n",
    "Det = []\n",
    "o = int((dim * dim - 1) / 2 + 1)\n",
    "s = int(dim * dim - o)  \n",
    "\n",
    "for i in range(sample):\n",
    "    matrix = np.concatenate((np.zeros(o), np.ones(s)))\n",
    "    rng = np.random.default_rng()\n",
    "    rng.shuffle(matrix)\n",
    "    A = matrix.reshape((dim, dim))  \n",
    "    detA = LA.det(A)\n",
    "    Det.append(detA)\n",
    "\n",
    "Max = max(Det)\n",
    "Min = min(Det)\n",
    "bins = np.arange(Min, Max + 2) - 0.5\n",
    "\n",
    "fig, ax = plt.subplots(1, 1)\n",
    "Data, _, _ = ax.hist(Det, bins, color='teal', density=True, rwidth=0.8)\n",
    "ax.set_xlabel('Det A')\n",
    "ax.set_ylabel('Probability distribution')\n",
    "ax.set_xlim(Min - 1, Max + 1)\n",
    "ax.set_xticks(np.arange(Min, Max + 1))\n",
    "ax.set_title(f'Determinant values for dimension {dim}')  # Fixed title string\n",
    "plt.grid(True)\n",
    "plt.show()"
   ]
  },
  {
   "cell_type": "code",
   "execution_count": 2,
   "id": "60a9b33f",
   "metadata": {},
   "outputs": [],
   "source": [
    "\n",
    "# Even n\n",
    "dim = 8\n",
    "sample = 10000\n",
    "Det = []\n",
    "val = int(dim*dim /2)\n",
    "\n",
    "for i in range(sample):\n",
    "    matrix = np.concatenate((np.ones(val), np.zeros(val)))\n",
    "    rng = np.random.default_rng()\n",
    "    rng.shuffle(matrix)\n",
    "    A = matrix.reshape((dim, dim))    \n",
    "    detA = LA.det(A)\n",
    "    Det.append(detA)\n",
    "\n",
    "Max = max(Det)\n",
    "Min = min(Det)\n",
    "bins = np.arange(Min, Max+2)-0.5\n",
    "\n",
    "fig, ax = plt.subplots(1,1)\n",
    "Data, _, _ = ax.hist(Det, bins, color='teal', density=True, rwidth=0.8)\n",
    "ax.set_xlabel('Det A')\n",
    "ax.set_ylabel('Probability distribution')\n",
    "ax.set_xlim(Min-1, Max+1)\n",
    "ax.set_xticks(np.arange(Min, Max+1))\n",
    "ax.set_title(f\"Determinant values for n = {dim}\")\n",
    "plt.grid(True)\n",
    "plt.show()"
   ]
  }
 ],
 "metadata": {
  "kernelspec": {
   "display_name": "Python 3 (ipykernel)",
   "language": "python",
   "name": "python3"
  },
  "language_info": {
   "codemirror_mode": {
    "name": "ipython",
    "version": 3
   },
   "file_extension": ".py",
   "mimetype": "text/x-python",
   "name": "python",
   "nbconvert_exporter": "python",
   "pygments_lexer": "ipython3",
   "version": "3.11.5"
  }
 },
 "nbformat": 4,
 "nbformat_minor": 5
}
