{
 "cells": [
  {
   "cell_type": "code",
   "execution_count": 4,
   "id": "5b23da34",
   "metadata": {},
   "outputs": [
    {
     "name": "stdout",
     "output_type": "stream",
     "text": [
      "[[21. 20. 19. 18. 17. 36.]\n",
      " [22.  7.  6.  5. 16. 35.]\n",
      " [23.  8.  3.  4. 15. 34.]\n",
      " [24.  9.  2.  1. 14. 33.]\n",
      " [25. 10. 11. 12. 13. 32.]\n",
      " [26. 27. 28. 29. 30. 31.]]\n",
      "Row sums: [131.  91.  87.  83. 103. 171.]\n",
      "Column sums: [141.  81.  69.  69. 105. 201.]\n"
     ]
    }
   ],
   "source": [
    "import numpy as np\n",
    "\n",
    "#Code used by making new square after new square. A different rotation to the inital one in the diagram but won't\n",
    "#change the results I am looking for.\n",
    "\n",
    "x = 36 # change here for different spiral. Must be a square number\n",
    "\n",
    "def spiral(n):\n",
    "    size = int(np.sqrt(n))\n",
    "    grid = np.zeros((size, size))\n",
    "\n",
    "    def coord(y, x):\n",
    "        return 0 <= y < size and 0 <= x < size and grid[y, x] == 0\n",
    "\n",
    "    def dist(i, j):\n",
    "        return np.sqrt((i[0] - j[0]) ** 2 + (i[1] - j[1]) ** 2)\n",
    "\n",
    "    current = (size // 2, size // 2)\n",
    "    change = 1 if size % 2 == 0 else 0\n",
    "    # To accomodate for odd and even cases\n",
    "\n",
    "    for num in range(1, n + 1):\n",
    "        y, x = current\n",
    "        grid[y, x] = num\n",
    "        unseen = [(y + dy, x + dx) for dy, dx in [(0, 1), (1, 0), (0, -1), (-1, 0)] if coord(y + dy, x + dx)]\n",
    "        if num != n:\n",
    "            current = min(unseen, key=lambda j: dist((size // 2 - change, size // 2 - change), j))\n",
    "\n",
    "    return grid\n",
    "\n",
    "def sums(spiral):\n",
    "    row_sums = np.sum(spiral, axis=1)\n",
    "    col_sums = np.sum(spiral, axis=0)\n",
    "    return row_sums, col_sums\n",
    "\n",
    "row_sums, col_sums = sums(spiral(x))\n",
    "\n",
    "print(spiral(x))\n",
    "print(\"Row sums:\", row_sums)\n",
    "print(\"Column sums:\", col_sums)\n"
   ]
  }
 ],
 "metadata": {
  "kernelspec": {
   "display_name": "Python 3 (ipykernel)",
   "language": "python",
   "name": "python3"
  },
  "language_info": {
   "codemirror_mode": {
    "name": "ipython",
    "version": 3
   },
   "file_extension": ".py",
   "mimetype": "text/x-python",
   "name": "python",
   "nbconvert_exporter": "python",
   "pygments_lexer": "ipython3",
   "version": "3.11.5"
  }
 },
 "nbformat": 4,
 "nbformat_minor": 5
}
