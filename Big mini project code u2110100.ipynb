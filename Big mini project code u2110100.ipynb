{
 "cells": [
  {
   "cell_type": "code",
   "execution_count": 1,
   "id": "95246d34-ea31-47f7-a937-c05e485ad429",
   "metadata": {
    "tags": []
   },
   "outputs": [
    {
     "data": {
      "text/plain": [
       "([0.2562404218936346, 0, 0, 0], 2.618240054166678)"
      ]
     },
     "execution_count": 1,
     "metadata": {},
     "output_type": "execute_result"
    }
   ],
   "source": [
    "import numpy as np\n",
    "import random \n",
    "\n",
    "#two cups strategy Ali random Beth random\n",
    "#running random simulations\n",
    "def game(x):\n",
    "    cup = []\n",
    "    for i in range(x):\n",
    "        cup.append(0)\n",
    "    a = random.uniform(0,0.5)\n",
    "    b = 0.5-a\n",
    "    cup[0] = a\n",
    "    cup[2] = b\n",
    "    B = random.randint(0,x-1)\n",
    "    cup[B % x] = 0\n",
    "    cup[(B+1) % x] = 0\n",
    "    H = []\n",
    "    H.append(0)\n",
    "    \n",
    "    count = 0\n",
    "    for i in range(100): \n",
    "        count += 1\n",
    "        a2 = random.uniform(0,0.5)\n",
    "        b2 = 0.5-a\n",
    "        cup[0] +=  a2\n",
    "        cup[2] +=  b2\n",
    "        H.append(max(cup))\n",
    "        B2 = random.randint(0,x-1)\n",
    "        cup[B2 % x] = 0\n",
    "        cup[(B2+1)%x] = 0\n",
    "\n",
    "    return cup,max(H)\n",
    "\n",
    "    \n",
    "game(4) #4 cups"
   ]
  },
  {
   "cell_type": "code",
   "execution_count": 2,
   "id": "a6299fb1-c878-4c5d-abb5-30492f2b3e56",
   "metadata": {
    "tags": []
   },
   "outputs": [
    {
     "name": "stdout",
     "output_type": "stream",
     "text": [
      "[0, 0, 1.1093786028866324, 0]\n",
      "1.1093786028866324\n",
      "8\n"
     ]
    }
   ],
   "source": [
    "def game(x):\n",
    "    cup = []\n",
    "    for i in range(x):\n",
    "        cup.append(0)\n",
    "    a = random.uniform(0,0.5)\n",
    "    b = 0.5-a\n",
    "    cup[0] = a\n",
    "    cup[2] = b\n",
    "    B = random.randint(0,x-1)\n",
    "    cup[B % x] = 0\n",
    "    cup[(B+1) % x] = 0\n",
    "    H = []\n",
    "    H.append(0)\n",
    "    \n",
    "    count = 0\n",
    "    while max(H)<=1: \n",
    "        count += 1\n",
    "        a2 = random.uniform(0,0.5)\n",
    "        b2 = 0.5-a\n",
    "        cup[0] +=  a2\n",
    "        cup[2] +=  b2\n",
    "        H.append(max(cup))\n",
    "        B2 = random.randint(0,x-1)\n",
    "        cup[B2 % x] = 0\n",
    "        cup[(B2+1)%x] = 0\n",
    "\n",
    "    return cup,max(H),count\n",
    "\n",
    "a,b,c = game(4) # change here for number of cups\n",
    "print(a)\n",
    "print(b)\n",
    "print(c)"
   ]
  },
  {
   "cell_type": "code",
   "execution_count": 3,
   "id": "6a5435a1-52b3-455c-a8ed-2e241750a983",
   "metadata": {
    "tags": []
   },
   "outputs": [
    {
     "name": "stdout",
     "output_type": "stream",
     "text": [
      "[1.0769522441338504, 0.0011783310754554972, 0, 0]\n",
      "1.0769522441338504\n",
      "2\n"
     ]
    }
   ],
   "source": [
    "#4cup strategy\n",
    "def game(x):\n",
    "    cup = []\n",
    "    for i in range(x):\n",
    "        cup.append(0)\n",
    "    a = random.uniform(0,0.5)\n",
    "    b = random.uniform(0,0.5-a)\n",
    "    c = random.uniform(0,0.5-a-b)\n",
    "    d = 0.5-a-b-c\n",
    "    cup[0] = a\n",
    "    cup[1] = c\n",
    "    cup[2] = b\n",
    "    cup[3] = d\n",
    "    B = random.randint(0,x-1)\n",
    "    cup[B % x] = 0\n",
    "    cup[(B+1) % x] = 0\n",
    "    H = []\n",
    "    H.append(0)\n",
    "    count = 0\n",
    "    while max(H)<=1: \n",
    "        count += 1\n",
    "        a2 = random.uniform(0,0.5)\n",
    "        b2 = random.uniform(0,0.5-a2)\n",
    "        c2 = random.uniform(0,0.5-a2-b2)\n",
    "        d2 = 0.5-a2-b2-c2\n",
    "        cup[0] += a2\n",
    "        cup[1] += c2\n",
    "        cup[2] += b2\n",
    "        cup[3] += d2\n",
    "        H.append(max(cup))\n",
    "        B2 = random.randint(0,x-1)\n",
    "        cup[B2 % x] = 0\n",
    "        cup[(B2+1)%x] = 0\n",
    "\n",
    "    return cup,max(H),count\n",
    "\n",
    "a,b,c = game(4)\n",
    "print(a)\n",
    "print(b)\n",
    "print(c)"
   ]
  },
  {
   "cell_type": "code",
   "execution_count": 4,
   "id": "cbdeaf81-ec9c-4b3f-a044-ad9583a7606f",
   "metadata": {
    "tags": []
   },
   "outputs": [
    {
     "name": "stdout",
     "output_type": "stream",
     "text": [
      "[0, 0, 0.09116934139793742, 0]\n",
      "0.9430385423059462\n",
      "10000\n"
     ]
    }
   ],
   "source": [
    "#Now Beth plays with strategy while Ali plays random\n",
    "def game(x):\n",
    "    cup = []\n",
    "    for i in range(x):\n",
    "        cup.append(0)\n",
    "    a = random.uniform(0,0.5)\n",
    "    b = 0.5-a\n",
    "    cup[0] = a\n",
    "    cup[2] = b\n",
    "    B = random.randint(0,x-1)\n",
    "    cup[B % x] = 0\n",
    "    cup[(B+1) % x] = 0\n",
    "    H = []\n",
    "    H.append(0)\n",
    "    \n",
    "    count = 0\n",
    "    for i in range(10000): \n",
    "        count += 1\n",
    "        a2 = random.uniform(0,0.5)\n",
    "        b2 = 0.5-a\n",
    "        cup[0] +=  a2\n",
    "        cup[2] +=  b2\n",
    "        H.append(max(cup))\n",
    "        B2 = cup.index(max(cup))\n",
    "        cup[B2 % x] = 0\n",
    "        cup[(B2+1)%x] = 0\n",
    "\n",
    "    return cup,max(H),count\n",
    "\n",
    "a,b,c = game(4)\n",
    "print(a)\n",
    "print(b)\n",
    "print(c)"
   ]
  },
  {
   "cell_type": "code",
   "execution_count": 5,
   "id": "ddec9d20-a9f4-4965-845f-fad9b67db1f7",
   "metadata": {
    "scrolled": false
   },
   "outputs": [
    {
     "name": "stdout",
     "output_type": "stream",
     "text": [
      "2.7178571428571425\n",
      "4.278543038936376\n",
      "31\n"
     ]
    }
   ],
   "source": [
    "# Harmonic series as a recursion\n",
    "def sum(n):\n",
    " \n",
    "    if n < 2:\n",
    "        return 1\n",
    " \n",
    "    else:\n",
    "        return 1 / n + (sum(n - 1))\n",
    "         \n",
    "print(sum(8))\n",
    "print(sum(40))\n",
    "count = 0\n",
    "while sum(count) <= 4:\n",
    "    count += 1\n",
    "    \n",
    "print(count)"
   ]
  },
  {
   "cell_type": "code",
   "execution_count": 6,
   "id": "a15c2e01",
   "metadata": {
    "scrolled": true
   },
   "outputs": [
    {
     "name": "stdout",
     "output_type": "stream",
     "text": [
      "1.2\n",
      "2.50522010515634\n",
      "14\n",
      "29\n"
     ]
    }
   ],
   "source": [
    "def sum(n):\n",
    "    if n < 2:\n",
    "        return 1\n",
    " \n",
    "    else:\n",
    "        return 1 / (2*n+1) + (sum(n - 1))\n",
    "   \n",
    "         \n",
    "print(sum(2))\n",
    "print(sum(40))\n",
    "count = 0\n",
    "while sum(count) <= 2:\n",
    "    count += 1\n",
    "    \n",
    "print(count)\n",
    "print(count*2+1)"
   ]
  },
  {
   "cell_type": "code",
   "execution_count": 7,
   "id": "3d30ab69",
   "metadata": {},
   "outputs": [
    {
     "name": "stdout",
     "output_type": "stream",
     "text": [
      "1.3333333333333333\n",
      "1.5333333333333332\n",
      "14\n",
      "29\n"
     ]
    }
   ],
   "source": [
    "def sum2(n):\n",
    "    if n == 0:  \n",
    "        return 1\n",
    "    else:\n",
    "        return 1 / (2*n + 1) + sum2(n - 1)\n",
    "\n",
    "print(sum2(1))\n",
    "print(sum2(2))\n",
    "\n",
    "while sum2(count) <= 2:\n",
    "    count += 1\n",
    "    # print(sum(count))\n",
    "print(count)\n",
    "print(count*2+1)"
   ]
  },
  {
   "cell_type": "code",
   "execution_count": 8,
   "id": "1e02b754",
   "metadata": {},
   "outputs": [
    {
     "name": "stdout",
     "output_type": "stream",
     "text": [
      "0\n",
      "0.5\n",
      "0.75\n",
      "0.5\n",
      "0.75\n",
      "0.9166666666666666\n",
      "1.0416666666666665\n",
      "1.1416666666666666\n",
      "1.2249999999999999\n",
      "1.2964285714285713\n",
      "1.3589285714285713\n",
      "1.4144841269841268\n",
      "1.4644841269841269\n",
      "1.5099386724386723\n",
      "1.551605339105339\n",
      "1.5900668775668776\n",
      "1.6257811632811634\n",
      "1.6591144966144968\n",
      "1.6903644966144968\n",
      "1.719776261320379\n",
      "1.7475540390981568\n",
      "1.773869828571841\n",
      "1.798869828571841\n",
      "1.8226793523813647\n",
      "1.8454066251086374\n",
      "1.86714575554342\n",
      "1.8879790888767534\n",
      "1.9079790888767534\n",
      "1.9272098581075225\n",
      "1.9457283766260411\n",
      "1.963585519483184\n",
      "1.9808268987935287\n",
      "1.9974935654601953\n",
      "2.01362259771826\n",
      "2.01362259771826\n",
      "31\n",
      "62\n"
     ]
    }
   ],
   "source": [
    "def sum3(n):\n",
    "    if n == 0:  \n",
    "        return 0\n",
    "    if n == 1:\n",
    "        return 1/2\n",
    "    else:\n",
    "        return (1 / (2*n)) + sum3(n - 1)\n",
    "\n",
    "print(sum3(0))\n",
    "print(sum3(1))\n",
    "print(sum3(2))\n",
    "count = 0\n",
    "while sum3(count) <= 2:\n",
    "    count += 1\n",
    "    print(sum3(count))\n",
    "\n",
    "print(sum3(count))\n",
    "print(count)\n",
    "print(count*2)"
   ]
  }
 ],
 "metadata": {
  "kernelspec": {
   "display_name": "Python 3 (ipykernel)",
   "language": "python",
   "name": "python3"
  },
  "language_info": {
   "codemirror_mode": {
    "name": "ipython",
    "version": 3
   },
   "file_extension": ".py",
   "mimetype": "text/x-python",
   "name": "python",
   "nbconvert_exporter": "python",
   "pygments_lexer": "ipython3",
   "version": "3.11.5"
  }
 },
 "nbformat": 4,
 "nbformat_minor": 5
}
